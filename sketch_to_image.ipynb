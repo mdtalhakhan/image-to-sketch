{
 "cells": [
  {
   "cell_type": "code",
   "execution_count": 7,
   "id": "574452f5-eb1a-4669-8d92-128a3a2bae1d",
   "metadata": {
    "scrolled": false
   },
   "outputs": [
    {
     "name": "stdout",
     "output_type": "stream",
     "text": [
      "Collecting opencv-contrib-python\n",
      "  Downloading opencv_contrib_python-4.5.5.64-cp36-abi3-win_amd64.whl (42.2 MB)\n",
      "Requirement already satisfied: numpy>=1.14.5 in c:\\anaconda\\lib\\site-packages (from opencv-contrib-python) (1.21.5)\n",
      "Installing collected packages: opencv-contrib-python\n",
      "Successfully installed opencv-contrib-python-4.5.5.64\n",
      "Note: you may need to restart the kernel to use updated packages.\n"
     ]
    }
   ],
   "source": [
    "pip install opencv-contrib-python"
   ]
  },
  {
   "cell_type": "code",
   "execution_count": 4,
   "id": "3cb00af4-3abb-4ac3-813b-85ed2f4a354a",
   "metadata": {},
   "outputs": [
    {
     "data": {
      "text/plain": [
       "-1"
      ]
     },
     "execution_count": 4,
     "metadata": {},
     "output_type": "execute_result"
    }
   ],
   "source": [
    "import numpy as np\n",
    "import imageio\n",
    "import scipy.ndimage\n",
    "import cv2\n",
    "\n",
    "img = \"carti.jpg\"\n",
    "\n",
    "\n",
    "# function to convert image into sketch\n",
    "def rgb2gray(rgb):\n",
    "    # 2 dimensional array to convert image to sketch\n",
    "    return np.dot(rgb[..., :3], [0.2989, 0.5870, .1140])\n",
    "\n",
    "\n",
    "def dodge(front, back):\n",
    "    # if image is greater than 255 (which is not possible) it will convert it to 255\n",
    "    final_sketch = front * 255 / (255 - back)\n",
    "    final_sketch[final_sketch > 255] = 255\n",
    "    final_sketch[back == 255] = 255\n",
    "\n",
    "    # to convert any suitable existing column to categorical type we will use aspect function\n",
    "    # and uint8 is for 8-bit signed integer\n",
    "    return final_sketch.astype('uint8')\n",
    "\n",
    "\n",
    "ss = imageio.imread(img)\n",
    "gray = rgb2gray(ss)\n",
    "\n",
    "i = 255 - gray\n",
    "\n",
    "# to convert into a blur image\n",
    "blur = scipy.ndimage.filters.gaussian_filter(i, sigma=13)\n",
    "\n",
    "# calling the function\n",
    "r = dodge(blur, gray)\n",
    "\n",
    "\n",
    "cv2.imwrite('carti.png', r)\n",
    "cv2.imshow('carti.png', r)\n",
    "cv2.waitKey(0)"
   ]
  },
  {
   "cell_type": "code",
   "execution_count": null,
   "id": "4380e240",
   "metadata": {},
   "outputs": [],
   "source": []
  },
  {
   "cell_type": "code",
   "execution_count": null,
   "id": "9ced7eeb",
   "metadata": {},
   "outputs": [],
   "source": []
  }
 ],
 "metadata": {
  "kernelspec": {
   "display_name": "Python 3 (ipykernel)",
   "language": "python",
   "name": "python3"
  },
  "language_info": {
   "codemirror_mode": {
    "name": "ipython",
    "version": 3
   },
   "file_extension": ".py",
   "mimetype": "text/x-python",
   "name": "python",
   "nbconvert_exporter": "python",
   "pygments_lexer": "ipython3",
   "version": "3.9.12"
  }
 },
 "nbformat": 4,
 "nbformat_minor": 5
}
